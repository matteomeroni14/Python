{
 "cells": [
  {
   "cell_type": "code",
   "execution_count": 7,
   "id": "d5c84b9c",
   "metadata": {},
   "outputs": [
    {
     "name": "stdout",
     "output_type": "stream",
     "text": [
      "\n",
      "Youtube To Mp3 Format\n",
      "\n",
      "Enter Video URL: https://www.youtube.com/watch?v=KP7vZ2vZxUE\n",
      "\n",
      "Downloading....\n",
      "\n",
      "Successfully Downloaded\n",
      "\n"
     ]
    }
   ],
   "source": [
    "# Import the module\n",
    "from pytube import YouTube\n",
    "import os\n",
    "\n",
    "print(\"\\nYoutube To Mp3 Format\\n\")\n",
    "\n",
    "URL = input(\"Enter Video URL: \")\n",
    "yt = YouTube(URL)\n",
    "\n",
    "try:\n",
    "    print(\"\\nDownloading....\")\n",
    "    video= yt.streams.filter(only_audio = True).first()\n",
    "    out_file = video.download()\n",
    "    \n",
    "    base, ext = os.path.splitext(out_file)\n",
    "    new_file = base + \".mp3\"\n",
    "    os.rename(out_file, new_file)\n",
    "    print(\"\\nSuccessfully Downloaded\\n\")\n",
    "    \n",
    "except:\n",
    "    print(\"\\nSomething Went Wrong! Please Try Again\")\n",
    "    "
   ]
  },
  {
   "cell_type": "code",
   "execution_count": null,
   "id": "cad66b70",
   "metadata": {},
   "outputs": [],
   "source": []
  }
 ],
 "metadata": {
  "kernelspec": {
   "display_name": "Python 3 (ipykernel)",
   "language": "python",
   "name": "python3"
  },
  "language_info": {
   "codemirror_mode": {
    "name": "ipython",
    "version": 3
   },
   "file_extension": ".py",
   "mimetype": "text/x-python",
   "name": "python",
   "nbconvert_exporter": "python",
   "pygments_lexer": "ipython3",
   "version": "3.9.7"
  },
  "toc": {
   "base_numbering": 1,
   "nav_menu": {},
   "number_sections": true,
   "sideBar": true,
   "skip_h1_title": false,
   "title_cell": "Table of Contents",
   "title_sidebar": "Contents",
   "toc_cell": false,
   "toc_position": {},
   "toc_section_display": true,
   "toc_window_display": false
  },
  "varInspector": {
   "cols": {
    "lenName": 16,
    "lenType": 16,
    "lenVar": 40
   },
   "kernels_config": {
    "python": {
     "delete_cmd_postfix": "",
     "delete_cmd_prefix": "del ",
     "library": "var_list.py",
     "varRefreshCmd": "print(var_dic_list())"
    },
    "r": {
     "delete_cmd_postfix": ") ",
     "delete_cmd_prefix": "rm(",
     "library": "var_list.r",
     "varRefreshCmd": "cat(var_dic_list()) "
    }
   },
   "types_to_exclude": [
    "module",
    "function",
    "builtin_function_or_method",
    "instance",
    "_Feature"
   ],
   "window_display": false
  }
 },
 "nbformat": 4,
 "nbformat_minor": 5
}
